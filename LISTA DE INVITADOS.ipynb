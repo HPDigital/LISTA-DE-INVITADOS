{
 "cells": [
  {
   "cell_type": "code",
   "execution_count": 6,
   "id": "e7f466d2-ec1e-4f0c-a50d-3e59779364c8",
   "metadata": {},
   "outputs": [
    {
     "name": "stdout",
     "output_type": "stream",
     "text": [
      "LISTA UNIFICADA con Todas las Hojas:\n",
      "    Nombre_Hoja                             Invitado1   Invitado2\n",
      "0       Lazarte          Nombre Completo Del Invitado  N° de Mesa\n",
      "1       Lazarte                         Matt Lazarte           52\n",
      "2       Lazarte                        Mayra Lazarte           52\n",
      "3       Lazarte                        Xenia Lazarte           52\n",
      "4       Lazarte                      Marcelo Lazarte           52\n",
      "..          ...                                   ...         ...\n",
      "344      Vargas                    Maria Luz Sánchez           41\n",
      "345      Vargas  Rafael Vargas Oporto (menor de edad)          41\n",
      "346      Vargas                  Isabel Vargas Oporto          41\n",
      "347      Vargas                 Milka Oporto Sánchez           41\n",
      "348      Vargas                     John Vargas Pinto          41\n",
      "\n",
      "[349 rows x 3 columns]\n",
      "Archivo guardado en: C:\\Users\\HP\\Downloads\\LISTA_UNIFICADA.xlsx\n"
     ]
    }
   ],
   "source": [
    "import pandas as pd\n",
    "\n",
    "def load_guest_list_from_sheet(file_path, sheet_name):\n",
    "    \"\"\"\n",
    "    Carga la lista de invitados desde una hoja específica.\n",
    "    \"\"\"\n",
    "    sheet_data = pd.read_excel(file_path, sheet_name=sheet_name, header=None)\n",
    "    # Los invitados se asumen desde la celda B3\n",
    "    invitados = sheet_data.iloc[2:, 1:3]\n",
    "    invitados.columns = [\"Invitado1\", \"Invitado2\"]\n",
    "    # Añade el nombre de la hoja como una columna\n",
    "    invitados.insert(0, \"Nombre_Hoja\", sheet_name)\n",
    "    return invitados\n",
    "\n",
    "def consolidate_guest_lists(file_path, excluded_sheet=\"LISTA UNIFICADA\"):\n",
    "    \"\"\"\n",
    "    Consolida las listas de invitados de todas las hojas excepto la excluida.\n",
    "    \"\"\"\n",
    "    # Crea un DataFrame vacío para la lista consolidada\n",
    "    consolidated_df = pd.DataFrame(columns=[\"Nombre_Hoja\", \"Invitado1\", \"Invitado2\"])\n",
    "    \n",
    "    # Lee el archivo Excel y obtiene los nombres de las hojas\n",
    "    excel_data = pd.ExcelFile(file_path)\n",
    "    \n",
    "    for sheet_name in excel_data.sheet_names:\n",
    "        if sheet_name != excluded_sheet:\n",
    "            invitados = load_guest_list_from_sheet(file_path, sheet_name)\n",
    "            consolidated_df = pd.concat([consolidated_df, invitados], ignore_index=True)\n",
    "    \n",
    "    return consolidated_df\n",
    "\n",
    "# Ruta al archivo Excel\n",
    "file_path = r\"C:\\Users\\HP\\Downloads\\Invitados.xlsx\"\n",
    "\n",
    "# Consolidar las listas de todas las hojas\n",
    "lista_unificada_df_all = consolidate_guest_lists(file_path)\n",
    "\n",
    "# Mostrar la lista consolidada al usuario\n",
    "# Reemplaza esta línea por una opción que funcione en tu entorno\n",
    "print(\"LISTA UNIFICADA con Todas las Hojas:\")\n",
    "print(lista_unificada_df_all)\n",
    "\n",
    "# O guardar el DataFrame en un archivo Excel o CSV\n",
    "output_path = r\"C:\\Users\\HP\\Downloads\\LISTA_UNIFICADA.xlsx\"\n",
    "lista_unificada_df_all.to_excel(output_path, index=False)\n",
    "print(f\"Archivo guardado en: {output_path}\")\n"
   ]
  },
  {
   "cell_type": "code",
   "execution_count": null,
   "id": "56c1ffdc-fa94-4b9d-b39f-26e57344bfe1",
   "metadata": {},
   "outputs": [],
   "source": []
  }
 ],
 "metadata": {
  "kernelspec": {
   "display_name": "Python 3 (ipykernel)",
   "language": "python",
   "name": "python3"
  },
  "language_info": {
   "codemirror_mode": {
    "name": "ipython",
    "version": 3
   },
   "file_extension": ".py",
   "mimetype": "text/x-python",
   "name": "python",
   "nbconvert_exporter": "python",
   "pygments_lexer": "ipython3",
   "version": "3.11.9"
  }
 },
 "nbformat": 4,
 "nbformat_minor": 5
}
